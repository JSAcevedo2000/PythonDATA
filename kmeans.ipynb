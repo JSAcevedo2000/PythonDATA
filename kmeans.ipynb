{
 "cells": [
  {
   "cell_type": "code",
   "execution_count": 8,
   "metadata": {},
   "outputs": [
    {
     "name": "stdout",
     "output_type": "stream",
     "text": [
      "150\n"
     ]
    }
   ],
   "source": [
    "import random\n",
    "import numpy as np\n",
    "import pandas as pd\n",
    "import matplotlib.pyplot as plt\n",
    "\n",
    "#Generate random data\n",
    "center_1 = [1, 1]\n",
    "center_2 = [5, 4]\n",
    "center_3 = [9, 1]\n",
    "\n",
    "data_1 = np.random.randn(50, 2) + center_1\n",
    "data_2 = np.random.randn(50, 2) + center_2\n",
    "data_3 = np.random.randn(50, 2) + center_3\n",
    "\n",
    "data = np.concatenate((data_1, data_2, data_3), axis = 0)\n",
    "data = data.tolist()\n",
    "\n",
    "print(len(data))"
   ]
  },
  {
   "cell_type": "code",
   "execution_count": 21,
   "metadata": {},
   "outputs": [
    {
     "data": {
      "image/png": "[encoded data removed]",
      "text/plain": [
       "<Figure size 432x288 with 1 Axes>"
      ]
     },
     "metadata": {
      "needs_background": "light"
     },
     "output_type": "display_data"
    }
   ],
   "source": [
    "#Plot data\n",
    "data_x = [x[0] for x in data]\n",
    "data_y = [x[1] for x in data]\n",
    "\n",
    "plt.plot(data_x, data_y, '.', color=\"#d624ac\")\n",
    "plt.show()"
   ]
  },
  {
   "cell_type": "code",
   "execution_count": 12,
   "metadata": {},
   "outputs": [
    {
     "name": "stdout",
     "output_type": "stream",
     "text": [
      "Number of clusters:  3\n",
      "Number of data:  150\n",
      "Number of fatures:  2\n"
     ]
    }
   ],
   "source": [
    "#Number of clusters\n",
    "k = 3\n",
    "\n",
    "#Number of data\n",
    "n = len(data)\n",
    "\n",
    "#Number of features\n",
    "c = len(data[0])\n",
    "\n",
    "print(\"Number of clusters: \", k)\n",
    "print(\"Number of data: \", n)\n",
    "print(\"Number of fatures: \", c)\n"
   ]
  },
  {
   "cell_type": "code",
   "execution_count": 16,
   "metadata": {},
   "outputs": [
    {
     "name": "stdout",
     "output_type": "stream",
     "text": [
      "Centroids:  [[9.198491128705031, 3.3506726246029475], [9.256652214068962, 1.0375606996201698], [1.523547504274021, 1.4164889448185232]]\n"
     ]
    }
   ],
   "source": [
    "centroid_list = []\n",
    "\n",
    "while len(centroid_list) < k:\n",
    "    #Pick a random element from data\n",
    "    random_centroid = random.choice(data)\n",
    "    \n",
    "    if random_centroid not in centroid_list:\n",
    "        centroid_list.append(random_centroid)\n",
    "        \n",
    "print(\"Centroids: \", centroid_list)"
   ]
  },
  {
   "cell_type": "code",
   "execution_count": 35,
   "metadata": {},
   "outputs": [
    {
     "data": {
      "image/png": "[encoded data removed]",
      "text/plain": [
       "<Figure size 432x288 with 1 Axes>"
      ]
     },
     "metadata": {
      "needs_background": "light"
     },
     "output_type": "display_data"
    }
   ],
   "source": [
    "#Plot data\n",
    "centroid_x = [x[0] for x in centroid_list]\n",
    "centroid_y = [x[1] for x in centroid_list]\n",
    "\n",
    "plt.plot(data_x, data_y, '.', color=\"#e56289\")\n",
    "plt.plot(centroid_x, centroid_y, '8', color=\"#1cf204\")\n",
    "plt.show()"
   ]
  },
  {
   "cell_type": "code",
   "execution_count": 53,
   "metadata": {},
   "outputs": [
    {
     "name": "stdout",
     "output_type": "stream",
     "text": [
      "[2, 2, 2, 2, 2, 2, 2, 2, 2, 2, 2, 2, 2, 2, 2, 2, 2, 2, 2, 2, 2, 2, 2, 2, 2, 2, 2, 2, 2, 2, 2, 2, 2, 2, 2, 2, 2, 2, 2, 2, 2, 2, 2, 2, 2, 2, 2, 2, 2, 2, 0, 2, 0, 0, 0, 0, 0, 0, 0, 2, 2, 0, 0, 0, 0, 2, 0, 0, 2, 0, 2, 1, 0, 2, 2, 0, 0, 0, 2, 0, 2, 2, 2, 2, 0, 0, 0, 2, 2, 2, 2, 0, 0, 2, 2, 2, 2, 2, 0, 2, 0, 1, 0, 1, 1, 1, 1, 0, 1, 1, 1, 1, 1, 1, 1, 0, 0, 1, 1, 1, 1, 1, 0, 1, 1, 1, 1, 1, 1, 1, 1, 0, 1, 2, 1, 1, 1, 1, 1, 1, 1, 0, 1, 1, 0, 1, 1, 0, 1, 1]\n"
     ]
    }
   ],
   "source": [
    "#data[0] y centroid_list[0]\n",
    "data_labels = [0] * len(data)\n",
    "\n",
    "#Iterate all data\n",
    "for index_data in range(n):\n",
    "    min_distance = 0\n",
    "    \n",
    "    #Iterate all centroids (index_centroids)\n",
    "    for index_centroid in range(k):\n",
    "        distance = 0\n",
    "        \n",
    "        #Iterate all features (index_features)\n",
    "        for index_feature in range(c):\n",
    "            distance += (data[index_data][index_feature] - centroid_list[index_centroid][index_feature])**2.0\n",
    "        distance = distance ** 0.5\n",
    "        \n",
    "        #Assign the nearest centroid (computing distance to it)\n",
    "        if distance < min_distance or min_distance==0:\n",
    "            data_labels[index_data] = index_centroid\n",
    "            min_distance = distance\n",
    "\n",
    "print(data_labels)"
   ]
  },
  {
   "cell_type": "code",
   "execution_count": null,
   "metadata": {},
   "outputs": [],
   "source": []
  },
  {
   "cell_type": "code",
   "execution_count": null,
   "metadata": {},
   "outputs": [],
   "source": []
  }
 ],
 "metadata": {
  "kernelspec": {
   "display_name": "Python 3",
   "language": "python",
   "name": "python3"
  },
  "language_info": {
   "codemirror_mode": {
    "name": "ipython",
    "version": 3
   },
   "file_extension": ".py",
   "mimetype": "text/x-python",
   "name": "python",
   "nbconvert_exporter": "python",
   "pygments_lexer": "ipython3",
   "version": "3.7.1"
  }
 },
 "nbformat": 4,
 "nbformat_minor": 2
}
